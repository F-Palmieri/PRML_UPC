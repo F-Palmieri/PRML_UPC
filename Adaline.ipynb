{
  "nbformat": 4,
  "nbformat_minor": 0,
  "metadata": {
    "colab": {
      "provenance": [],
      "authorship_tag": "ABX9TyOGECiGS80ZGEwbcU83IBgm",
      "include_colab_link": true
    },
    "kernelspec": {
      "name": "python3",
      "display_name": "Python 3"
    },
    "language_info": {
      "name": "python"
    }
  },
  "cells": [
    {
      "cell_type": "markdown",
      "metadata": {
        "id": "view-in-github",
        "colab_type": "text"
      },
      "source": [
        "<a href=\"https://colab.research.google.com/github/F-Palmieri/PRML_UPC/blob/main/Adaline.ipynb\" target=\"_parent\"><img src=\"https://colab.research.google.com/assets/colab-badge.svg\" alt=\"Open In Colab\"/></a>"
      ]
    },
    {
      "cell_type": "markdown",
      "source": [
        "#  Implementing an adaptive linear neuron in Python\n",
        "\n",
        "\n",
        "---\n",
        "Reference: \n",
        "\n",
        "\n",
        "1.   Python machine learning : machine learning and deep learning with Python, scikit-learn, and TensorFlow. Raschka, Sebastian, autor; Mirjalili, Vahid, autor 2019\n",
        "2.   Deep Learning with Python, Second Edition. Francois Chollet\n",
        "3.   An Adaptive \"Adaline\" Neuron Using Chemical \"Memistors\", Technical Report Number 1553-2, B. Widrow and others, Stanford Electron Labs, Stanford, CA, October 1960\n",
        "\n",
        "\n",
        "\n",
        "---\n",
        "\n",
        "\n",
        "In this section, we will take a look at the ADAptive LInear NEuron (Adaline).\n",
        "Since the perceptron rule and Adaline are very similar, we will take the perceptron\n",
        "implementation that we defined earlier and change the fit method so that the\n",
        "weights are updated by minimizing the cost function via gradient descent"
      ],
      "metadata": {
        "id": "u_8sUct_-zcj"
      }
    },
    {
      "cell_type": "code",
      "execution_count": null,
      "metadata": {
        "id": "7k1VaXXU-sSw"
      },
      "outputs": [],
      "source": []
    }
  ]
}