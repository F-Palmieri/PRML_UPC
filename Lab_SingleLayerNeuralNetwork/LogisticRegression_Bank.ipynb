{
  "nbformat": 4,
  "nbformat_minor": 0,
  "metadata": {
    "colab": {
      "provenance": [],
      "authorship_tag": "ABX9TyPEU7YxX2AJE5W0MoEgVsNX",
      "include_colab_link": true
    },
    "kernelspec": {
      "name": "python3",
      "display_name": "Python 3"
    },
    "language_info": {
      "name": "python"
    }
  },
  "cells": [
    {
      "cell_type": "markdown",
      "metadata": {
        "id": "view-in-github",
        "colab_type": "text"
      },
      "source": [
        "<a href=\"https://colab.research.google.com/github/F-Palmieri/PRML_UPC/blob/main/LogisticRegression_Bank.ipynb\" target=\"_parent\"><img src=\"https://colab.research.google.com/assets/colab-badge.svg\" alt=\"Open In Colab\"/></a>"
      ]
    },
    {
      "cell_type": "markdown",
      "source": [
        "# Logistic Regression with Linear and Polynomial Features\n",
        "\n",
        "\n",
        "---\n",
        "References: \n",
        "\n",
        "\n",
        "1.   S. Moro, R. Laureano and P. Cortez. Using Data Mining for Bank Direct Marketing: An Application of the CRISP-DM Methodology.  In P. Novais et al. (Eds.), Proceedings of the European Simulation and Modelling Conference - ESM'2011, pp. 117-121, Guimarães, Portugal, October, 2011. EUROSIS.\n",
        "2.   Dataset used, refer https://archive.ics.uci.edu/ml/datasets/Bank+Marketing\n",
        "3.   gitHub https://github.com/Bharat-Reddy/Bank-Marketing-Analysis\n",
        "\n",
        "\n"
      ],
      "metadata": {
        "id": "Of5u-7Y6IHsZ"
      }
    },
    {
      "cell_type": "code",
      "execution_count": 2,
      "metadata": {
        "id": "B8zBHLmwIGlw"
      },
      "outputs": [],
      "source": [
        "import pandas as pd\n",
        "from sklearn.model_selection import train_test_split\n",
        "from sklearn.linear_model import LogisticRegression\n",
        "from sklearn import metrics\n",
        "import matplotlib.pyplot as plt\n",
        "import seaborn as sns\n",
        "from sklearn.preprocessing import PolynomialFeatures\n",
        "import numpy as np\n",
        "from sklearn import preprocessing"
      ]
    },
    {
      "cell_type": "code",
      "source": [
        "# Import Data\n",
        "from google.colab import drive \n",
        "drive.mount('/content/gdrive')"
      ],
      "metadata": {
        "colab": {
          "base_uri": "https://localhost:8080/"
        },
        "id": "tfdI9MeKI9Mt",
        "outputId": "be10945a-5034-43c0-b442-252cd9e437ed"
      },
      "execution_count": 3,
      "outputs": [
        {
          "output_type": "stream",
          "name": "stdout",
          "text": [
            "Drive already mounted at /content/gdrive; to attempt to forcibly remount, call drive.mount(\"/content/gdrive\", force_remount=True).\n"
          ]
        }
      ]
    },
    {
      "cell_type": "code",
      "source": [
        "import pandas as pd \n",
        "data=pd.read_csv('gdrive/MyDrive/Colab Notebooks/full_ohe.csv')\n",
        "data.head()"
      ],
      "metadata": {
        "colab": {
          "base_uri": "https://localhost:8080/",
          "height": 300
        },
        "id": "gkanbotPK3ce",
        "outputId": "864e32b3-d3e3-4b85-f58a-32378ad1c221"
      },
      "execution_count": 4,
      "outputs": [
        {
          "output_type": "execute_result",
          "data": {
            "text/plain": [
              "        age  default  housing  loan  campaign  pdays  previous  poutcome  \\\n",
              "0  0.481481        1        1     1       0.0    1.0       0.0         0   \n",
              "1  0.493827        0        1     1       0.0    1.0       0.0         0   \n",
              "2  0.246914        1       -1     1       0.0    1.0       0.0         0   \n",
              "3  0.283951        1        1     1       0.0    1.0       0.0         0   \n",
              "4  0.481481        1        1    -1       0.0    1.0       0.0         0   \n",
              "\n",
              "   emp.var.rate  cons.price.idx  ...  month_mar  month_may  month_nov  \\\n",
              "0        0.9375        0.698753  ...          0          1          0   \n",
              "1        0.9375        0.698753  ...          0          1          0   \n",
              "2        0.9375        0.698753  ...          0          1          0   \n",
              "3        0.9375        0.698753  ...          0          1          0   \n",
              "4        0.9375        0.698753  ...          0          1          0   \n",
              "\n",
              "   month_oct  month_sep  day_of_week_fri  day_of_week_mon  day_of_week_thu  \\\n",
              "0          0          0                0                1                0   \n",
              "1          0          0                0                1                0   \n",
              "2          0          0                0                1                0   \n",
              "3          0          0                0                1                0   \n",
              "4          0          0                0                1                0   \n",
              "\n",
              "   day_of_week_tue  day_of_week_wed  \n",
              "0                0                0  \n",
              "1                0                0  \n",
              "2                0                0  \n",
              "3                0                0  \n",
              "4                0                0  \n",
              "\n",
              "[5 rows x 56 columns]"
            ],
            "text/html": [
              "\n",
              "  <div id=\"df-8f9606bf-9dec-42a8-88e2-f2041b696b3d\">\n",
              "    <div class=\"colab-df-container\">\n",
              "      <div>\n",
              "<style scoped>\n",
              "    .dataframe tbody tr th:only-of-type {\n",
              "        vertical-align: middle;\n",
              "    }\n",
              "\n",
              "    .dataframe tbody tr th {\n",
              "        vertical-align: top;\n",
              "    }\n",
              "\n",
              "    .dataframe thead th {\n",
              "        text-align: right;\n",
              "    }\n",
              "</style>\n",
              "<table border=\"1\" class=\"dataframe\">\n",
              "  <thead>\n",
              "    <tr style=\"text-align: right;\">\n",
              "      <th></th>\n",
              "      <th>age</th>\n",
              "      <th>default</th>\n",
              "      <th>housing</th>\n",
              "      <th>loan</th>\n",
              "      <th>campaign</th>\n",
              "      <th>pdays</th>\n",
              "      <th>previous</th>\n",
              "      <th>poutcome</th>\n",
              "      <th>emp.var.rate</th>\n",
              "      <th>cons.price.idx</th>\n",
              "      <th>...</th>\n",
              "      <th>month_mar</th>\n",
              "      <th>month_may</th>\n",
              "      <th>month_nov</th>\n",
              "      <th>month_oct</th>\n",
              "      <th>month_sep</th>\n",
              "      <th>day_of_week_fri</th>\n",
              "      <th>day_of_week_mon</th>\n",
              "      <th>day_of_week_thu</th>\n",
              "      <th>day_of_week_tue</th>\n",
              "      <th>day_of_week_wed</th>\n",
              "    </tr>\n",
              "  </thead>\n",
              "  <tbody>\n",
              "    <tr>\n",
              "      <th>0</th>\n",
              "      <td>0.481481</td>\n",
              "      <td>1</td>\n",
              "      <td>1</td>\n",
              "      <td>1</td>\n",
              "      <td>0.0</td>\n",
              "      <td>1.0</td>\n",
              "      <td>0.0</td>\n",
              "      <td>0</td>\n",
              "      <td>0.9375</td>\n",
              "      <td>0.698753</td>\n",
              "      <td>...</td>\n",
              "      <td>0</td>\n",
              "      <td>1</td>\n",
              "      <td>0</td>\n",
              "      <td>0</td>\n",
              "      <td>0</td>\n",
              "      <td>0</td>\n",
              "      <td>1</td>\n",
              "      <td>0</td>\n",
              "      <td>0</td>\n",
              "      <td>0</td>\n",
              "    </tr>\n",
              "    <tr>\n",
              "      <th>1</th>\n",
              "      <td>0.493827</td>\n",
              "      <td>0</td>\n",
              "      <td>1</td>\n",
              "      <td>1</td>\n",
              "      <td>0.0</td>\n",
              "      <td>1.0</td>\n",
              "      <td>0.0</td>\n",
              "      <td>0</td>\n",
              "      <td>0.9375</td>\n",
              "      <td>0.698753</td>\n",
              "      <td>...</td>\n",
              "      <td>0</td>\n",
              "      <td>1</td>\n",
              "      <td>0</td>\n",
              "      <td>0</td>\n",
              "      <td>0</td>\n",
              "      <td>0</td>\n",
              "      <td>1</td>\n",
              "      <td>0</td>\n",
              "      <td>0</td>\n",
              "      <td>0</td>\n",
              "    </tr>\n",
              "    <tr>\n",
              "      <th>2</th>\n",
              "      <td>0.246914</td>\n",
              "      <td>1</td>\n",
              "      <td>-1</td>\n",
              "      <td>1</td>\n",
              "      <td>0.0</td>\n",
              "      <td>1.0</td>\n",
              "      <td>0.0</td>\n",
              "      <td>0</td>\n",
              "      <td>0.9375</td>\n",
              "      <td>0.698753</td>\n",
              "      <td>...</td>\n",
              "      <td>0</td>\n",
              "      <td>1</td>\n",
              "      <td>0</td>\n",
              "      <td>0</td>\n",
              "      <td>0</td>\n",
              "      <td>0</td>\n",
              "      <td>1</td>\n",
              "      <td>0</td>\n",
              "      <td>0</td>\n",
              "      <td>0</td>\n",
              "    </tr>\n",
              "    <tr>\n",
              "      <th>3</th>\n",
              "      <td>0.283951</td>\n",
              "      <td>1</td>\n",
              "      <td>1</td>\n",
              "      <td>1</td>\n",
              "      <td>0.0</td>\n",
              "      <td>1.0</td>\n",
              "      <td>0.0</td>\n",
              "      <td>0</td>\n",
              "      <td>0.9375</td>\n",
              "      <td>0.698753</td>\n",
              "      <td>...</td>\n",
              "      <td>0</td>\n",
              "      <td>1</td>\n",
              "      <td>0</td>\n",
              "      <td>0</td>\n",
              "      <td>0</td>\n",
              "      <td>0</td>\n",
              "      <td>1</td>\n",
              "      <td>0</td>\n",
              "      <td>0</td>\n",
              "      <td>0</td>\n",
              "    </tr>\n",
              "    <tr>\n",
              "      <th>4</th>\n",
              "      <td>0.481481</td>\n",
              "      <td>1</td>\n",
              "      <td>1</td>\n",
              "      <td>-1</td>\n",
              "      <td>0.0</td>\n",
              "      <td>1.0</td>\n",
              "      <td>0.0</td>\n",
              "      <td>0</td>\n",
              "      <td>0.9375</td>\n",
              "      <td>0.698753</td>\n",
              "      <td>...</td>\n",
              "      <td>0</td>\n",
              "      <td>1</td>\n",
              "      <td>0</td>\n",
              "      <td>0</td>\n",
              "      <td>0</td>\n",
              "      <td>0</td>\n",
              "      <td>1</td>\n",
              "      <td>0</td>\n",
              "      <td>0</td>\n",
              "      <td>0</td>\n",
              "    </tr>\n",
              "  </tbody>\n",
              "</table>\n",
              "<p>5 rows × 56 columns</p>\n",
              "</div>\n",
              "      <button class=\"colab-df-convert\" onclick=\"convertToInteractive('df-8f9606bf-9dec-42a8-88e2-f2041b696b3d')\"\n",
              "              title=\"Convert this dataframe to an interactive table.\"\n",
              "              style=\"display:none;\">\n",
              "        \n",
              "  <svg xmlns=\"http://www.w3.org/2000/svg\" height=\"24px\"viewBox=\"0 0 24 24\"\n",
              "       width=\"24px\">\n",
              "    <path d=\"M0 0h24v24H0V0z\" fill=\"none\"/>\n",
              "    <path d=\"M18.56 5.44l.94 2.06.94-2.06 2.06-.94-2.06-.94-.94-2.06-.94 2.06-2.06.94zm-11 1L8.5 8.5l.94-2.06 2.06-.94-2.06-.94L8.5 2.5l-.94 2.06-2.06.94zm10 10l.94 2.06.94-2.06 2.06-.94-2.06-.94-.94-2.06-.94 2.06-2.06.94z\"/><path d=\"M17.41 7.96l-1.37-1.37c-.4-.4-.92-.59-1.43-.59-.52 0-1.04.2-1.43.59L10.3 9.45l-7.72 7.72c-.78.78-.78 2.05 0 2.83L4 21.41c.39.39.9.59 1.41.59.51 0 1.02-.2 1.41-.59l7.78-7.78 2.81-2.81c.8-.78.8-2.07 0-2.86zM5.41 20L4 18.59l7.72-7.72 1.47 1.35L5.41 20z\"/>\n",
              "  </svg>\n",
              "      </button>\n",
              "      \n",
              "  <style>\n",
              "    .colab-df-container {\n",
              "      display:flex;\n",
              "      flex-wrap:wrap;\n",
              "      gap: 12px;\n",
              "    }\n",
              "\n",
              "    .colab-df-convert {\n",
              "      background-color: #E8F0FE;\n",
              "      border: none;\n",
              "      border-radius: 50%;\n",
              "      cursor: pointer;\n",
              "      display: none;\n",
              "      fill: #1967D2;\n",
              "      height: 32px;\n",
              "      padding: 0 0 0 0;\n",
              "      width: 32px;\n",
              "    }\n",
              "\n",
              "    .colab-df-convert:hover {\n",
              "      background-color: #E2EBFA;\n",
              "      box-shadow: 0px 1px 2px rgba(60, 64, 67, 0.3), 0px 1px 3px 1px rgba(60, 64, 67, 0.15);\n",
              "      fill: #174EA6;\n",
              "    }\n",
              "\n",
              "    [theme=dark] .colab-df-convert {\n",
              "      background-color: #3B4455;\n",
              "      fill: #D2E3FC;\n",
              "    }\n",
              "\n",
              "    [theme=dark] .colab-df-convert:hover {\n",
              "      background-color: #434B5C;\n",
              "      box-shadow: 0px 1px 3px 1px rgba(0, 0, 0, 0.15);\n",
              "      filter: drop-shadow(0px 1px 2px rgba(0, 0, 0, 0.3));\n",
              "      fill: #FFFFFF;\n",
              "    }\n",
              "  </style>\n",
              "\n",
              "      <script>\n",
              "        const buttonEl =\n",
              "          document.querySelector('#df-8f9606bf-9dec-42a8-88e2-f2041b696b3d button.colab-df-convert');\n",
              "        buttonEl.style.display =\n",
              "          google.colab.kernel.accessAllowed ? 'block' : 'none';\n",
              "\n",
              "        async function convertToInteractive(key) {\n",
              "          const element = document.querySelector('#df-8f9606bf-9dec-42a8-88e2-f2041b696b3d');\n",
              "          const dataTable =\n",
              "            await google.colab.kernel.invokeFunction('convertToInteractive',\n",
              "                                                     [key], {});\n",
              "          if (!dataTable) return;\n",
              "\n",
              "          const docLinkHtml = 'Like what you see? Visit the ' +\n",
              "            '<a target=\"_blank\" href=https://colab.research.google.com/notebooks/data_table.ipynb>data table notebook</a>'\n",
              "            + ' to learn more about interactive tables.';\n",
              "          element.innerHTML = '';\n",
              "          dataTable['output_type'] = 'display_data';\n",
              "          await google.colab.output.renderOutput(dataTable, element);\n",
              "          const docLink = document.createElement('div');\n",
              "          docLink.innerHTML = docLinkHtml;\n",
              "          element.appendChild(docLink);\n",
              "        }\n",
              "      </script>\n",
              "    </div>\n",
              "  </div>\n",
              "  "
            ]
          },
          "metadata": {},
          "execution_count": 4
        }
      ]
    },
    {
      "cell_type": "code",
      "source": [
        "data.columns"
      ],
      "metadata": {
        "colab": {
          "base_uri": "https://localhost:8080/"
        },
        "id": "zcJyKlBtLP8d",
        "outputId": "0e2b244f-2896-43af-a913-a95d86912008"
      },
      "execution_count": 5,
      "outputs": [
        {
          "output_type": "execute_result",
          "data": {
            "text/plain": [
              "Index(['age', 'default', 'housing', 'loan', 'campaign', 'pdays', 'previous',\n",
              "       'poutcome', 'emp.var.rate', 'cons.price.idx', 'cons.conf.idx',\n",
              "       'euribor3m', 'nr.employed', 'y', 'pdays2', 'job_admin.',\n",
              "       'job_blue-collar', 'job_entrepreneur', 'job_housemaid',\n",
              "       'job_management', 'job_retired', 'job_self-employed', 'job_services',\n",
              "       'job_student', 'job_technician', 'job_unemployed', 'job_unknown',\n",
              "       'marital_divorced', 'marital_married', 'marital_single',\n",
              "       'marital_unknown', 'education_basic.4y', 'education_basic.6y',\n",
              "       'education_basic.9y', 'education_high.school', 'education_illiterate',\n",
              "       'education_professional.course', 'education_university.degree',\n",
              "       'education_unknown', 'contact_cellular', 'contact_telephone',\n",
              "       'month_apr', 'month_aug', 'month_dec', 'month_jul', 'month_jun',\n",
              "       'month_mar', 'month_may', 'month_nov', 'month_oct', 'month_sep',\n",
              "       'day_of_week_fri', 'day_of_week_mon', 'day_of_week_thu',\n",
              "       'day_of_week_tue', 'day_of_week_wed'],\n",
              "      dtype='object')"
            ]
          },
          "metadata": {},
          "execution_count": 5
        }
      ]
    },
    {
      "cell_type": "code",
      "source": [
        "# Saperating features and result vectors\n",
        "X = data.drop('y', axis=1).values\n",
        "y = data['y'].values"
      ],
      "metadata": {
        "id": "4MH0FrQSLRp7"
      },
      "execution_count": 6,
      "outputs": []
    },
    {
      "cell_type": "markdown",
      "source": [
        "**Test Train Split**"
      ],
      "metadata": {
        "id": "1m3I5LP4La0L"
      }
    },
    {
      "cell_type": "code",
      "source": [
        "X_train, X_test, y_train, y_test = train_test_split(X, y, test_size=0.30, random_state=42)"
      ],
      "metadata": {
        "id": "MNJGDDasLeu5"
      },
      "execution_count": 7,
      "outputs": []
    },
    {
      "cell_type": "code",
      "source": [
        "from sklearn.preprocessing import StandardScaler\n",
        "\n",
        "sc = StandardScaler()\n",
        "sc.fit(X_train)\n",
        "X_train_std = sc.transform(X_train)\n",
        "X_test_std = sc.transform(X_test)\n",
        "\n",
        "X_train_scaled = scaler.transform(X_train_std)\n",
        "X_test_scaled = scaler.transform(X_test_std)\n"
      ],
      "metadata": {
        "id": "pg8GL511SR5w"
      },
      "execution_count": null,
      "outputs": []
    },
    {
      "cell_type": "code",
      "source": [
        "poly_features_1 = PolynomialFeatures(degree=1)\n",
        "poly_features_2 = PolynomialFeatures(degree=2)\n",
        "poly_features_3 = PolynomialFeatures(degree=3)"
      ],
      "metadata": {
        "id": "5FxlnsYhLhIX"
      },
      "execution_count": 60,
      "outputs": []
    },
    {
      "cell_type": "code",
      "source": [
        "X_train_poly1 = poly_features_1.fit_transform(X_train_std)\n",
        "X_train_poly2 = poly_features_2.fit_transform(X_train_std)"
      ],
      "metadata": {
        "id": "KCPWHSuaLjZ8"
      },
      "execution_count": 61,
      "outputs": []
    },
    {
      "cell_type": "code",
      "source": [
        " X_train_poly3 = poly_features_3.fit_transform(X_train_std) # This line may crash the whole session. "
      ],
      "metadata": {
        "id": "Pw2mFjDcMFdD"
      },
      "execution_count": 63,
      "outputs": []
    },
    {
      "cell_type": "markdown",
      "source": [
        "**Logistic Regression with Linear Features**"
      ],
      "metadata": {
        "id": "fZc3QhshL0xp"
      }
    },
    {
      "cell_type": "code",
      "source": [
        "logisticRegr = LogisticRegression(C=100.0, random_state=1, solver='sag', max_iter=100)\n",
        "logisticRegr.fit(X_train_poly1, y_train)\n",
        "y_test_predict = logisticRegr.predict(poly_features_1.fit_transform(X_test_std))\n",
        "acc1 = metrics.accuracy_score(y_test_predict, y_test)\n",
        "pre1 = metrics.precision_score(y_test_predict,y_test)\n",
        "rec1 = metrics.recall_score(y_test_predict,y_test)\n",
        "f1_1 = metrics.f1_score(y_test_predict,y_test)"
      ],
      "metadata": {
        "id": "Po9WUyINMhwe"
      },
      "execution_count": 64,
      "outputs": []
    },
    {
      "cell_type": "code",
      "source": [
        "# Logistic Regression with Polynomial Features of degree=2\n",
        "\n",
        "\n",
        "logisticRegr = LogisticRegression(C=100.0, random_state=1, solver='sag', max_iter=100)\n",
        "logisticRegr.fit(X_train_poly2, y_train)\n",
        "y_test_predict = logisticRegr.predict(poly_features_2.fit_transform(X_test_std))\n",
        "acc2 = metrics.accuracy_score(y_test_predict, y_test)\n",
        "pre2 = metrics.precision_score(y_test_predict,y_test)\n",
        "rec2 = metrics.recall_score(y_test_predict,y_test)\n",
        "f1_2 = metrics.f1_score(y_test_predict,y_test)"
      ],
      "metadata": {
        "colab": {
          "base_uri": "https://localhost:8080/"
        },
        "id": "JNS1rxBhSpoI",
        "outputId": "17d2daed-218f-47d8-fa80-b3334b211340"
      },
      "execution_count": 65,
      "outputs": [
        {
          "output_type": "stream",
          "name": "stderr",
          "text": [
            "/usr/local/lib/python3.9/dist-packages/sklearn/linear_model/_sag.py:350: ConvergenceWarning: The max_iter was reached which means the coef_ did not converge\n",
            "  warnings.warn(\n"
          ]
        }
      ]
    },
    {
      "cell_type": "code",
      "source": [
        "# Logistic Regression with Polynomial Features of degree=3\n",
        "\n",
        "\n",
        "logisticRegr = LogisticRegression(C=100.0, random_state=1, solver='sag', max_iter=100)\n",
        "logisticRegr.fit(X_train_poly3, y_train)\n",
        "y_test_predict = logisticRegr.predict(poly_features_3.fit_transform(X_test_std))\n",
        "acc3 = metrics.accuracy_score(y_test_predict, y_test)\n",
        "pre3 = metrics.precision_score(y_test_predict,y_test)\n",
        "rec3 = metrics.recall_score(y_test_predict,y_test)\n",
        "f1_3 = metrics.f1_score(y_test_predict,y_test)"
      ],
      "metadata": {
        "colab": {
          "base_uri": "https://localhost:8080/"
        },
        "id": "CHf-07swUfeM",
        "outputId": "08168ba7-512e-400b-b670-3b8974ebaf19"
      },
      "execution_count": 66,
      "outputs": [
        {
          "output_type": "stream",
          "name": "stderr",
          "text": [
            "/usr/local/lib/python3.9/dist-packages/sklearn/linear_model/_sag.py:350: ConvergenceWarning: The max_iter was reached which means the coef_ did not converge\n",
            "  warnings.warn(\n"
          ]
        }
      ]
    },
    {
      "cell_type": "code",
      "source": [
        "# Comparing the results\n",
        "\n",
        "table = pd.DataFrame({\n",
        "    'Metric': ['Accuracy', 'Precision', 'Recall', 'F1 Score'],\n",
        "    'Logistic Regression with Linear Features': [acc1, pre1, rec1, f1_1],\n",
        "    'Logistic Regression with Features of Degree=2' : [acc2, pre2, rec2, f1_2],\n",
        "    'Logistic Regression with Features of Degree=3' : [acc3, pre3, rec3, f1_3]})\n",
        "table\n",
        "\n"
      ],
      "metadata": {
        "colab": {
          "base_uri": "https://localhost:8080/",
          "height": 175
        },
        "id": "wjQeLczXNAcO",
        "outputId": "1a69cec7-34b2-4091-a720-409dc4a5a205"
      },
      "execution_count": 69,
      "outputs": [
        {
          "output_type": "execute_result",
          "data": {
            "text/plain": [
              "      Metric  Logistic Regression with Linear Features  \\\n",
              "0   Accuracy                                  0.734401   \n",
              "1  Precision                                  0.654905   \n",
              "2     Recall                                  0.780071   \n",
              "3   F1 Score                                  0.712029   \n",
              "\n",
              "   Logistic Regression with Features of Degree=2  \\\n",
              "0                                       0.747477   \n",
              "1                                       0.649671   \n",
              "2                                       0.809058   \n",
              "3                                       0.720657   \n",
              "\n",
              "   Logistic Regression with Features of Degree=3  \n",
              "0                                       0.767793  \n",
              "1                                       0.736847  \n",
              "2                                       0.786533  \n",
              "3                                       0.760880  "
            ],
            "text/html": [
              "\n",
              "  <div id=\"df-2111bb72-afee-4730-8a17-7b0510a9c972\">\n",
              "    <div class=\"colab-df-container\">\n",
              "      <div>\n",
              "<style scoped>\n",
              "    .dataframe tbody tr th:only-of-type {\n",
              "        vertical-align: middle;\n",
              "    }\n",
              "\n",
              "    .dataframe tbody tr th {\n",
              "        vertical-align: top;\n",
              "    }\n",
              "\n",
              "    .dataframe thead th {\n",
              "        text-align: right;\n",
              "    }\n",
              "</style>\n",
              "<table border=\"1\" class=\"dataframe\">\n",
              "  <thead>\n",
              "    <tr style=\"text-align: right;\">\n",
              "      <th></th>\n",
              "      <th>Metric</th>\n",
              "      <th>Logistic Regression with Linear Features</th>\n",
              "      <th>Logistic Regression with Features of Degree=2</th>\n",
              "      <th>Logistic Regression with Features of Degree=3</th>\n",
              "    </tr>\n",
              "  </thead>\n",
              "  <tbody>\n",
              "    <tr>\n",
              "      <th>0</th>\n",
              "      <td>Accuracy</td>\n",
              "      <td>0.734401</td>\n",
              "      <td>0.747477</td>\n",
              "      <td>0.767793</td>\n",
              "    </tr>\n",
              "    <tr>\n",
              "      <th>1</th>\n",
              "      <td>Precision</td>\n",
              "      <td>0.654905</td>\n",
              "      <td>0.649671</td>\n",
              "      <td>0.736847</td>\n",
              "    </tr>\n",
              "    <tr>\n",
              "      <th>2</th>\n",
              "      <td>Recall</td>\n",
              "      <td>0.780071</td>\n",
              "      <td>0.809058</td>\n",
              "      <td>0.786533</td>\n",
              "    </tr>\n",
              "    <tr>\n",
              "      <th>3</th>\n",
              "      <td>F1 Score</td>\n",
              "      <td>0.712029</td>\n",
              "      <td>0.720657</td>\n",
              "      <td>0.760880</td>\n",
              "    </tr>\n",
              "  </tbody>\n",
              "</table>\n",
              "</div>\n",
              "      <button class=\"colab-df-convert\" onclick=\"convertToInteractive('df-2111bb72-afee-4730-8a17-7b0510a9c972')\"\n",
              "              title=\"Convert this dataframe to an interactive table.\"\n",
              "              style=\"display:none;\">\n",
              "        \n",
              "  <svg xmlns=\"http://www.w3.org/2000/svg\" height=\"24px\"viewBox=\"0 0 24 24\"\n",
              "       width=\"24px\">\n",
              "    <path d=\"M0 0h24v24H0V0z\" fill=\"none\"/>\n",
              "    <path d=\"M18.56 5.44l.94 2.06.94-2.06 2.06-.94-2.06-.94-.94-2.06-.94 2.06-2.06.94zm-11 1L8.5 8.5l.94-2.06 2.06-.94-2.06-.94L8.5 2.5l-.94 2.06-2.06.94zm10 10l.94 2.06.94-2.06 2.06-.94-2.06-.94-.94-2.06-.94 2.06-2.06.94z\"/><path d=\"M17.41 7.96l-1.37-1.37c-.4-.4-.92-.59-1.43-.59-.52 0-1.04.2-1.43.59L10.3 9.45l-7.72 7.72c-.78.78-.78 2.05 0 2.83L4 21.41c.39.39.9.59 1.41.59.51 0 1.02-.2 1.41-.59l7.78-7.78 2.81-2.81c.8-.78.8-2.07 0-2.86zM5.41 20L4 18.59l7.72-7.72 1.47 1.35L5.41 20z\"/>\n",
              "  </svg>\n",
              "      </button>\n",
              "      \n",
              "  <style>\n",
              "    .colab-df-container {\n",
              "      display:flex;\n",
              "      flex-wrap:wrap;\n",
              "      gap: 12px;\n",
              "    }\n",
              "\n",
              "    .colab-df-convert {\n",
              "      background-color: #E8F0FE;\n",
              "      border: none;\n",
              "      border-radius: 50%;\n",
              "      cursor: pointer;\n",
              "      display: none;\n",
              "      fill: #1967D2;\n",
              "      height: 32px;\n",
              "      padding: 0 0 0 0;\n",
              "      width: 32px;\n",
              "    }\n",
              "\n",
              "    .colab-df-convert:hover {\n",
              "      background-color: #E2EBFA;\n",
              "      box-shadow: 0px 1px 2px rgba(60, 64, 67, 0.3), 0px 1px 3px 1px rgba(60, 64, 67, 0.15);\n",
              "      fill: #174EA6;\n",
              "    }\n",
              "\n",
              "    [theme=dark] .colab-df-convert {\n",
              "      background-color: #3B4455;\n",
              "      fill: #D2E3FC;\n",
              "    }\n",
              "\n",
              "    [theme=dark] .colab-df-convert:hover {\n",
              "      background-color: #434B5C;\n",
              "      box-shadow: 0px 1px 3px 1px rgba(0, 0, 0, 0.15);\n",
              "      filter: drop-shadow(0px 1px 2px rgba(0, 0, 0, 0.3));\n",
              "      fill: #FFFFFF;\n",
              "    }\n",
              "  </style>\n",
              "\n",
              "      <script>\n",
              "        const buttonEl =\n",
              "          document.querySelector('#df-2111bb72-afee-4730-8a17-7b0510a9c972 button.colab-df-convert');\n",
              "        buttonEl.style.display =\n",
              "          google.colab.kernel.accessAllowed ? 'block' : 'none';\n",
              "\n",
              "        async function convertToInteractive(key) {\n",
              "          const element = document.querySelector('#df-2111bb72-afee-4730-8a17-7b0510a9c972');\n",
              "          const dataTable =\n",
              "            await google.colab.kernel.invokeFunction('convertToInteractive',\n",
              "                                                     [key], {});\n",
              "          if (!dataTable) return;\n",
              "\n",
              "          const docLinkHtml = 'Like what you see? Visit the ' +\n",
              "            '<a target=\"_blank\" href=https://colab.research.google.com/notebooks/data_table.ipynb>data table notebook</a>'\n",
              "            + ' to learn more about interactive tables.';\n",
              "          element.innerHTML = '';\n",
              "          dataTable['output_type'] = 'display_data';\n",
              "          await google.colab.output.renderOutput(dataTable, element);\n",
              "          const docLink = document.createElement('div');\n",
              "          docLink.innerHTML = docLinkHtml;\n",
              "          element.appendChild(docLink);\n",
              "        }\n",
              "      </script>\n",
              "    </div>\n",
              "  </div>\n",
              "  "
            ]
          },
          "metadata": {},
          "execution_count": 69
        }
      ]
    },
    {
      "cell_type": "markdown",
      "source": [
        "# Model evaluation after appliying PCA"
      ],
      "metadata": {
        "id": "HLpxdWmRNLUy"
      }
    },
    {
      "cell_type": "code",
      "source": [
        "from sklearn.decomposition import PCA\n",
        "pca = PCA(n_components=0.90)\n",
        "x_pca = pca.fit_transform(X)\n",
        "x_pca.shape"
      ],
      "metadata": {
        "colab": {
          "base_uri": "https://localhost:8080/"
        },
        "id": "6nhYF6k2NPTC",
        "outputId": "49bf30e3-793f-4d87-d803-b7846e4f309c"
      },
      "execution_count": 9,
      "outputs": [
        {
          "output_type": "execute_result",
          "data": {
            "text/plain": [
              "(73668, 24)"
            ]
          },
          "metadata": {},
          "execution_count": 9
        }
      ]
    },
    {
      "cell_type": "markdown",
      "source": [
        "Observation : To capture 90% of variance we need only 24 Features out of 56"
      ],
      "metadata": {
        "id": "0psI8h6JNe10"
      }
    },
    {
      "cell_type": "code",
      "source": [
        "X_train, X_test, y_train, y_test = train_test_split(x_pca, y, test_size=0.30, random_state=42)"
      ],
      "metadata": {
        "id": "1MUHYYYiNiDY"
      },
      "execution_count": 71,
      "outputs": []
    },
    {
      "cell_type": "code",
      "source": [
        "from sklearn.preprocessing import StandardScaler\n",
        "\n",
        "sc = StandardScaler()\n",
        "sc.fit(X_train)\n",
        "X_train_std = sc.transform(X_train)\n",
        "X_test_std = sc.transform(X_test)"
      ],
      "metadata": {
        "id": "MhStRlYlOP6Q"
      },
      "execution_count": 20,
      "outputs": []
    },
    {
      "cell_type": "code",
      "source": [
        "poly_features_1 = PolynomialFeatures(degree=1)\n",
        "poly_features_2 = PolynomialFeatures(degree=2)\n",
        "poly_features_3 = PolynomialFeatures(degree=3)\n",
        "X_train_poly1 = poly_features_1.fit_transform(X_train_std)\n",
        "X_train_poly2 = poly_features_2.fit_transform(X_train_std)\n",
        "X_train_poly3 = poly_features_3.fit_transform(X_train_std)"
      ],
      "metadata": {
        "id": "i5fux5tmNkiT"
      },
      "execution_count": 72,
      "outputs": []
    },
    {
      "cell_type": "code",
      "source": [
        "logisticRegr = LogisticRegression(C=100.0, random_state=1, solver='sag', max_iter=100)\n",
        "logisticRegr.fit(X_train_poly1, y_train)\n",
        "y_test_predict = logisticRegr.predict(poly_features_1.fit_transform(X_test_std))\n",
        "acc1 = metrics.accuracy_score(y_test_predict, y_test)\n",
        "pre1 = metrics.precision_score(y_test_predict,y_test)\n",
        "rec1 = metrics.recall_score(y_test_predict,y_test)\n",
        "f1_1 = metrics.f1_score(y_test_predict,y_test)"
      ],
      "metadata": {
        "id": "qZ2yMjMtNrGS"
      },
      "execution_count": 73,
      "outputs": []
    },
    {
      "cell_type": "code",
      "source": [
        "logisticRegr = LogisticRegression(C=100.0, random_state=1, solver='sag', max_iter=100)\n",
        "logisticRegr.fit(X_train_poly2, y_train)\n",
        "y_test_predict = logisticRegr.predict(poly_features_2.fit_transform(X_test_std))\n",
        "acc2 = metrics.accuracy_score(y_test_predict, y_test)\n",
        "pre2 = metrics.precision_score(y_test_predict,y_test)\n",
        "rec2 = metrics.recall_score(y_test_predict,y_test)\n",
        "f1_2 = metrics.f1_score(y_test_predict,y_test)"
      ],
      "metadata": {
        "colab": {
          "base_uri": "https://localhost:8080/"
        },
        "id": "hnxHTPFENwry",
        "outputId": "eb17527b-8dcc-4e8d-9eb1-1a17adfabdd4"
      },
      "execution_count": 74,
      "outputs": [
        {
          "output_type": "stream",
          "name": "stderr",
          "text": [
            "/usr/local/lib/python3.9/dist-packages/sklearn/linear_model/_sag.py:350: ConvergenceWarning: The max_iter was reached which means the coef_ did not converge\n",
            "  warnings.warn(\n"
          ]
        }
      ]
    },
    {
      "cell_type": "code",
      "source": [
        "logisticRegr = LogisticRegression(C=100.0, random_state=1, solver='sag', max_iter=100)\n",
        "logisticRegr.fit(X_train_poly3, y_train)\n",
        "y_test_predict = logisticRegr.predict(poly_features_3.fit_transform(X_test_std))\n",
        "acc3 = metrics.accuracy_score(y_test_predict, y_test)\n",
        "pre3 = metrics.precision_score(y_test_predict,y_test)\n",
        "rec3 = metrics.recall_score(y_test_predict,y_test)\n",
        "f1_3 = metrics.f1_score(y_test_predict,y_test)"
      ],
      "metadata": {
        "colab": {
          "base_uri": "https://localhost:8080/"
        },
        "id": "VV5tmm69PlMn",
        "outputId": "a4e4f150-add2-45e5-ee37-ac83d7a9ac72"
      },
      "execution_count": 75,
      "outputs": [
        {
          "output_type": "stream",
          "name": "stderr",
          "text": [
            "/usr/local/lib/python3.9/dist-packages/sklearn/linear_model/_sag.py:350: ConvergenceWarning: The max_iter was reached which means the coef_ did not converge\n",
            "  warnings.warn(\n"
          ]
        }
      ]
    },
    {
      "cell_type": "code",
      "source": [
        "table = pd.DataFrame({\n",
        "    'Metric': ['Accuracy', 'Precision', 'Recall', 'F1 Score'],\n",
        "    'Logistic Regression with Linear Features': [acc1, pre1, rec1, f1_1],\n",
        "    'Logistic Regression with Features of Degree=2' : [acc2, pre2, rec2, f1_2],\n",
        "    'Logistic Regression with Features of Degree=3' : [acc3, pre3, rec3, f1_3]})\n",
        "table"
      ],
      "metadata": {
        "colab": {
          "base_uri": "https://localhost:8080/",
          "height": 175
        },
        "id": "tGsPDTfkPwfZ",
        "outputId": "b0899a6c-95aa-4537-860f-2c52a6770898"
      },
      "execution_count": 76,
      "outputs": [
        {
          "output_type": "execute_result",
          "data": {
            "text/plain": [
              "      Metric  Logistic Regression with Linear Features  \\\n",
              "0   Accuracy                                  0.734401   \n",
              "1  Precision                                  0.654905   \n",
              "2     Recall                                  0.780071   \n",
              "3   F1 Score                                  0.712029   \n",
              "\n",
              "   Logistic Regression with Features of Degree=2  \\\n",
              "0                                       0.747477   \n",
              "1                                       0.649671   \n",
              "2                                       0.809058   \n",
              "3                                       0.720657   \n",
              "\n",
              "   Logistic Regression with Features of Degree=3  \n",
              "0                                       0.767793  \n",
              "1                                       0.736847  \n",
              "2                                       0.786533  \n",
              "3                                       0.760880  "
            ],
            "text/html": [
              "\n",
              "  <div id=\"df-50a3994e-acf4-488e-89d4-3920a24cf7d2\">\n",
              "    <div class=\"colab-df-container\">\n",
              "      <div>\n",
              "<style scoped>\n",
              "    .dataframe tbody tr th:only-of-type {\n",
              "        vertical-align: middle;\n",
              "    }\n",
              "\n",
              "    .dataframe tbody tr th {\n",
              "        vertical-align: top;\n",
              "    }\n",
              "\n",
              "    .dataframe thead th {\n",
              "        text-align: right;\n",
              "    }\n",
              "</style>\n",
              "<table border=\"1\" class=\"dataframe\">\n",
              "  <thead>\n",
              "    <tr style=\"text-align: right;\">\n",
              "      <th></th>\n",
              "      <th>Metric</th>\n",
              "      <th>Logistic Regression with Linear Features</th>\n",
              "      <th>Logistic Regression with Features of Degree=2</th>\n",
              "      <th>Logistic Regression with Features of Degree=3</th>\n",
              "    </tr>\n",
              "  </thead>\n",
              "  <tbody>\n",
              "    <tr>\n",
              "      <th>0</th>\n",
              "      <td>Accuracy</td>\n",
              "      <td>0.734401</td>\n",
              "      <td>0.747477</td>\n",
              "      <td>0.767793</td>\n",
              "    </tr>\n",
              "    <tr>\n",
              "      <th>1</th>\n",
              "      <td>Precision</td>\n",
              "      <td>0.654905</td>\n",
              "      <td>0.649671</td>\n",
              "      <td>0.736847</td>\n",
              "    </tr>\n",
              "    <tr>\n",
              "      <th>2</th>\n",
              "      <td>Recall</td>\n",
              "      <td>0.780071</td>\n",
              "      <td>0.809058</td>\n",
              "      <td>0.786533</td>\n",
              "    </tr>\n",
              "    <tr>\n",
              "      <th>3</th>\n",
              "      <td>F1 Score</td>\n",
              "      <td>0.712029</td>\n",
              "      <td>0.720657</td>\n",
              "      <td>0.760880</td>\n",
              "    </tr>\n",
              "  </tbody>\n",
              "</table>\n",
              "</div>\n",
              "      <button class=\"colab-df-convert\" onclick=\"convertToInteractive('df-50a3994e-acf4-488e-89d4-3920a24cf7d2')\"\n",
              "              title=\"Convert this dataframe to an interactive table.\"\n",
              "              style=\"display:none;\">\n",
              "        \n",
              "  <svg xmlns=\"http://www.w3.org/2000/svg\" height=\"24px\"viewBox=\"0 0 24 24\"\n",
              "       width=\"24px\">\n",
              "    <path d=\"M0 0h24v24H0V0z\" fill=\"none\"/>\n",
              "    <path d=\"M18.56 5.44l.94 2.06.94-2.06 2.06-.94-2.06-.94-.94-2.06-.94 2.06-2.06.94zm-11 1L8.5 8.5l.94-2.06 2.06-.94-2.06-.94L8.5 2.5l-.94 2.06-2.06.94zm10 10l.94 2.06.94-2.06 2.06-.94-2.06-.94-.94-2.06-.94 2.06-2.06.94z\"/><path d=\"M17.41 7.96l-1.37-1.37c-.4-.4-.92-.59-1.43-.59-.52 0-1.04.2-1.43.59L10.3 9.45l-7.72 7.72c-.78.78-.78 2.05 0 2.83L4 21.41c.39.39.9.59 1.41.59.51 0 1.02-.2 1.41-.59l7.78-7.78 2.81-2.81c.8-.78.8-2.07 0-2.86zM5.41 20L4 18.59l7.72-7.72 1.47 1.35L5.41 20z\"/>\n",
              "  </svg>\n",
              "      </button>\n",
              "      \n",
              "  <style>\n",
              "    .colab-df-container {\n",
              "      display:flex;\n",
              "      flex-wrap:wrap;\n",
              "      gap: 12px;\n",
              "    }\n",
              "\n",
              "    .colab-df-convert {\n",
              "      background-color: #E8F0FE;\n",
              "      border: none;\n",
              "      border-radius: 50%;\n",
              "      cursor: pointer;\n",
              "      display: none;\n",
              "      fill: #1967D2;\n",
              "      height: 32px;\n",
              "      padding: 0 0 0 0;\n",
              "      width: 32px;\n",
              "    }\n",
              "\n",
              "    .colab-df-convert:hover {\n",
              "      background-color: #E2EBFA;\n",
              "      box-shadow: 0px 1px 2px rgba(60, 64, 67, 0.3), 0px 1px 3px 1px rgba(60, 64, 67, 0.15);\n",
              "      fill: #174EA6;\n",
              "    }\n",
              "\n",
              "    [theme=dark] .colab-df-convert {\n",
              "      background-color: #3B4455;\n",
              "      fill: #D2E3FC;\n",
              "    }\n",
              "\n",
              "    [theme=dark] .colab-df-convert:hover {\n",
              "      background-color: #434B5C;\n",
              "      box-shadow: 0px 1px 3px 1px rgba(0, 0, 0, 0.15);\n",
              "      filter: drop-shadow(0px 1px 2px rgba(0, 0, 0, 0.3));\n",
              "      fill: #FFFFFF;\n",
              "    }\n",
              "  </style>\n",
              "\n",
              "      <script>\n",
              "        const buttonEl =\n",
              "          document.querySelector('#df-50a3994e-acf4-488e-89d4-3920a24cf7d2 button.colab-df-convert');\n",
              "        buttonEl.style.display =\n",
              "          google.colab.kernel.accessAllowed ? 'block' : 'none';\n",
              "\n",
              "        async function convertToInteractive(key) {\n",
              "          const element = document.querySelector('#df-50a3994e-acf4-488e-89d4-3920a24cf7d2');\n",
              "          const dataTable =\n",
              "            await google.colab.kernel.invokeFunction('convertToInteractive',\n",
              "                                                     [key], {});\n",
              "          if (!dataTable) return;\n",
              "\n",
              "          const docLinkHtml = 'Like what you see? Visit the ' +\n",
              "            '<a target=\"_blank\" href=https://colab.research.google.com/notebooks/data_table.ipynb>data table notebook</a>'\n",
              "            + ' to learn more about interactive tables.';\n",
              "          element.innerHTML = '';\n",
              "          dataTable['output_type'] = 'display_data';\n",
              "          await google.colab.output.renderOutput(dataTable, element);\n",
              "          const docLink = document.createElement('div');\n",
              "          docLink.innerHTML = docLinkHtml;\n",
              "          element.appendChild(docLink);\n",
              "        }\n",
              "      </script>\n",
              "    </div>\n",
              "  </div>\n",
              "  "
            ]
          },
          "metadata": {},
          "execution_count": 76
        }
      ]
    },
    {
      "cell_type": "markdown",
      "source": [
        "Observation : We can see that with just 24 Features instead 56 Features we can get the same accuracy"
      ],
      "metadata": {
        "id": "NW47V3-XaYqg"
      }
    },
    {
      "cell_type": "markdown",
      "source": [
        "# Plotting the ROC Curve for Better Visualization\n"
      ],
      "metadata": {
        "id": "9nO52hlKaeCa"
      }
    },
    {
      "cell_type": "code",
      "source": [
        "X_train, X_test, y_train, y_test = train_test_split(x_pca, y, test_size=0.30, random_state=42)"
      ],
      "metadata": {
        "id": "m7FKstIpadBX"
      },
      "execution_count": 10,
      "outputs": []
    },
    {
      "cell_type": "code",
      "source": [
        "from sklearn.preprocessing import StandardScaler\n",
        "\n",
        "sc = StandardScaler()\n",
        "sc.fit(X_train)\n",
        "X_train_std = sc.transform(X_train)\n",
        "X_test_std = sc.transform(X_test)"
      ],
      "metadata": {
        "id": "3W5N21dna_fC"
      },
      "execution_count": 11,
      "outputs": []
    },
    {
      "cell_type": "code",
      "source": [
        "poly_features_1 = PolynomialFeatures(degree=1)\n",
        "poly_features_2 = PolynomialFeatures(degree=2)\n",
        "poly_features_3 = PolynomialFeatures(degree=3)"
      ],
      "metadata": {
        "id": "9qg63rAPcoEP"
      },
      "execution_count": 12,
      "outputs": []
    },
    {
      "cell_type": "code",
      "source": [
        "logisticRegr = LogisticRegression(C=100.0, random_state=1, solver='sag', max_iter=100)\n",
        "X_poly2 = poly_features_2.fit_transform(X_train_std)\n",
        "logisticRegr.fit(X_poly2, y_train)\n",
        "predict = logisticRegr.predict(poly_features_2.fit_transform(X_test_std))\n",
        "#data['predict'] = predict\n",
        "TP2 = np.sum([(c==1 and p==1) for c,p in zip(y_test,predict)])\n",
        "TN2 = np.sum([(c==0 and p==0) for c,p in zip(y_test,predict)])\n",
        "FP2 = np.sum([(c==0 and p==1) for c,p in zip(y_test,predict)])\n",
        "FN2 = np.sum([(c==1 and p==0) for c,p in zip(y_test,predict)])\n",
        "P2 = np.sum(y_test)\n",
        "N2 = len(y_test) - P2\n",
        "phat2 = logisticRegr.predict_proba(poly_features_2.fit_transform(X_test_std))[:,1]\n"
      ],
      "metadata": {
        "colab": {
          "base_uri": "https://localhost:8080/"
        },
        "id": "sqcOw96marS8",
        "outputId": "f333805f-6648-49a9-b23b-5a59c512751e"
      },
      "execution_count": 15,
      "outputs": [
        {
          "output_type": "stream",
          "name": "stderr",
          "text": [
            "/usr/local/lib/python3.9/dist-packages/sklearn/linear_model/_sag.py:350: ConvergenceWarning: The max_iter was reached which means the coef_ did not converge\n",
            "  warnings.warn(\n"
          ]
        }
      ]
    },
    {
      "cell_type": "code",
      "source": [
        "logisticRegr = LogisticRegression(C=100.0, random_state=1, solver='sag', max_iter=100)\n",
        "X_poly1 = poly_features_1.fit_transform(X_train_std)\n",
        "logisticRegr.fit(X_poly1, y_train)\n",
        "predict = logisticRegr.predict(poly_features_1.fit_transform(X_test_std))\n",
        "#data['predict'] = predict\n",
        "TP1 = np.sum([(c==1 and p==1) for c,p in zip(y_test,predict)])\n",
        "TN1 = np.sum([(c==0 and p==0) for c,p in zip(y_test,predict)])\n",
        "FP1 = np.sum([(c==0 and p==1) for c,p in zip(y_test,predict)])\n",
        "FN1 = np.sum([(c==1 and p==0) for c,p in zip(y_test,predict)])\n",
        "P1 = np.sum(y_test)\n",
        "N1 = len(y_test) - P1\n",
        "phat1 = logisticRegr.predict_proba(poly_features_1.fit_transform(X_test_std))[:,1]\n",
        "\n"
      ],
      "metadata": {
        "id": "90QTJwKJa0bq"
      },
      "execution_count": 16,
      "outputs": []
    },
    {
      "cell_type": "code",
      "source": [
        "logisticRegr = LogisticRegression(C=100.0, random_state=1, solver='sag', max_iter=100)\n",
        "X_poly3 = poly_features_3.fit_transform(X_train_std)\n",
        "logisticRegr.fit(X_poly3, y_train)\n",
        "predict = logisticRegr.predict(poly_features_3.fit_transform(X_test_std))\n",
        "#data['predict'] = predict\n",
        "TP3 = np.sum([(c==1 and p==1) for c,p in zip(y_test,predict)])\n",
        "TN3 = np.sum([(c==0 and p==0) for c,p in zip(y_test,predict)])\n",
        "FP3 = np.sum([(c==0 and p==1) for c,p in zip(y_test,predict)])\n",
        "FN3 = np.sum([(c==1 and p==0) for c,p in zip(y_test,predict)])\n",
        "P3 = np.sum(y_test)\n",
        "N3 = len(y_test) - P3\n",
        "phat3 = logisticRegr.predict_proba(poly_features_3.fit_transform(X_test_std))[:,1]\n",
        "\n"
      ],
      "metadata": {
        "colab": {
          "base_uri": "https://localhost:8080/"
        },
        "id": "4w2XBPyKa4OE",
        "outputId": "87050cba-8115-46e1-84d7-2a702c4fd666"
      },
      "execution_count": 17,
      "outputs": [
        {
          "output_type": "stream",
          "name": "stderr",
          "text": [
            "/usr/local/lib/python3.9/dist-packages/sklearn/linear_model/_sag.py:350: ConvergenceWarning: The max_iter was reached which means the coef_ did not converge\n",
            "  warnings.warn(\n"
          ]
        }
      ]
    },
    {
      "cell_type": "code",
      "source": [
        "from sklearn.metrics import roc_curve\n",
        "fpr1, tpr1, thresholds1 = roc_curve(y_test, phat1)\n",
        "plt.plot(fpr1, tpr1)\n",
        "plt.plot(FP1/N1, TP1/P1, label = 'Degree=1', color='blue')\n",
        "\n",
        "fpr2, tpr2, thresholds2 = roc_curve(y_test, phat2)\n",
        "plt.plot(fpr2, tpr2)\n",
        "plt.plot(FP2/N2, TP2/P2, label = 'Degree=2', color='darkorange')\n",
        "\n",
        "fpr3, tpr3, thresholds3 = roc_curve(y_test, phat3)\n",
        "plt.plot(fpr3, tpr3)\n",
        "plt.plot(FP3/N3, TP3/P3, label = 'Degree=3', color='green')\n",
        "\n",
        "x = np.linspace(0,1,num=50)\n",
        "plt.plot(x,x,color='lightgrey',linestyle='--',marker='',lw=2,label='random guess')\n",
        "plt.legend(fontsize = 14)\n",
        "plt.xlabel('False positive rate', fontsize = 18)\n",
        "plt.ylabel('True positive rate', fontsize = 18)\n",
        "plt.xlim(0,1.1)\n",
        "plt.ylim(0,1.1)\n",
        "plt.show()\n",
        "\n"
      ],
      "metadata": {
        "colab": {
          "base_uri": "https://localhost:8080/",
          "height": 287
        },
        "id": "3t5R7SKNa7Wg",
        "outputId": "ececb79d-8f77-4010-d8a1-ba691ba0ffb5"
      },
      "execution_count": 18,
      "outputs": [
        {
          "output_type": "display_data",
          "data": {
            "text/plain": [
              "<Figure size 432x288 with 1 Axes>"
            ],
            "image/png": "[encoded data removed]"
          },
          "metadata": {
            "needs_background": "light"
          }
        }
      ]
    }
  ]
}
